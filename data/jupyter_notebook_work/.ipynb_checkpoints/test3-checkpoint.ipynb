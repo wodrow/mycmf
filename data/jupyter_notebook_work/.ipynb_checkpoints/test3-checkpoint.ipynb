{
 "cells": [
  {
   "cell_type": "markdown",
   "metadata": {},
   "source": [
    "# this is a test"
   ]
  },
  {
   "cell_type": "markdown",
   "metadata": {},
   "source": [
    "## import libs"
   ]
  },
  {
   "cell_type": "code",
   "execution_count": null,
   "metadata": {},
   "outputs": [],
   "source": [
    "%matplotlib inline\n",
    "import numpy as np\n",
    "from numpy import *\n",
    "from matplotlib import pyplot as plt\n",
    "from sklearn import tree\n",
    "import cv2\n",
    "import tensorflow as tf"
   ]
  },
  {
   "cell_type": "markdown",
   "metadata": {},
   "source": [
    "## dec1"
   ]
  },
  {
   "cell_type": "code",
   "execution_count": null,
   "metadata": {},
   "outputs": [],
   "source": [
    "feature = [[178,1],[155,0],[158,0],[173,0],[165,0],[170,1],[177,1]]\n",
    "label = ['male', 'female', 'female', 'male', 'female', 'male', 'male']\n",
    "clf = tree.DecisionTreeClassifier()\n",
    "clf = clf.fit(feature, label)\n",
    "clf.predict([[176,1]])"
   ]
  },
  {
   "cell_type": "code",
   "execution_count": null,
   "metadata": {},
   "outputs": [],
   "source": [
    "x = random.rand(4,4)\n",
    "y = mat(x)\n",
    "y"
   ]
  },
  {
   "cell_type": "code",
   "execution_count": null,
   "metadata": {},
   "outputs": [],
   "source": [
    "3782.75*12"
   ]
  },
  {
   "cell_type": "markdown",
   "metadata": {},
   "source": [
    "## opencv2 test"
   ]
  },
  {
   "cell_type": "code",
   "execution_count": null,
   "metadata": {},
   "outputs": [],
   "source": [
    "read_type = cv2.IMREAD_UNCHANGED\n",
    "read_type"
   ]
  },
  {
   "cell_type": "code",
   "execution_count": null,
   "metadata": {
    "scrolled": false
   },
   "outputs": [],
   "source": [
    "img =cv2.imread('test_images/a.jpg', read_type)\n",
    "plt.imshow(img)\n",
    "plt.xticks([]),plt.yticks([])  #to hide tick values on X and Y axis\n",
    "plt.show()\n",
    "# import cv2\n",
    "# from IPython.display import Image\n",
    "# Image('test_images/a.jpg')\n",
    "# img = cv2.imread('test_images/a.jpg')\n",
    "# cv2.namedWindow('image',cv2.WINDOW_NORMAL)\n",
    "# cv2.imshow('image',img)\n",
    "# cv2.waitKey(0)\n",
    "# cv2.destroyAllWindows()"
   ]
  },
  {
   "cell_type": "code",
   "execution_count": null,
   "metadata": {},
   "outputs": [],
   "source": [
    "cv2.imwrite('test_iamges/a1.jpg',img)"
   ]
  },
  {
   "cell_type": "markdown",
   "metadata": {},
   "source": [
    "## test %matplotlib inline"
   ]
  },
  {
   "cell_type": "code",
   "execution_count": null,
   "metadata": {
    "scrolled": true
   },
   "outputs": [],
   "source": [
    "labels='frogs','hogs','dogs','logs'\n",
    "sizes=15,20,45,10\n",
    "colors='yellowgreen','gold','lightskyblue','lightcoral'\n",
    "explode=0,0.1,0,0\n",
    "plt.pie(sizes,explode=explode,labels=labels,colors=colors,autopct='%1.1f%%',shadow=True,startangle=50)\n",
    "plt.axis('equal')\n",
    "plt.show()"
   ]
  },
  {
   "cell_type": "markdown",
   "metadata": {},
   "source": [
    "## test opencv video"
   ]
  },
  {
   "cell_type": "code",
   "execution_count": null,
   "metadata": {},
   "outputs": [],
   "source": [
    "cap=cv2.VideoCapture('test_videos/tsjy.mp4')#文件名及格式\n",
    "while(True):\n",
    "\t#capture frame-by-frame\n",
    "    ret , frame = cap.read()\n",
    "    \n",
    "    #our operation on the frame come here\n",
    "    gray = cv2.cvtColor(frame , cv2.COLOR_BGR2GRAY)\n",
    "    \n",
    "    #display the resulting frame\n",
    "    cv2.imshow('frame',gray)\n",
    "    if cv2.waitKey(1) &0xFF ==ord('q'):  #按q键退出\n",
    "    \tbreak\n",
    "#when everything done , release the capture\n",
    "cap.release()\n",
    "cv2.destroyAllWindows()"
   ]
  },
  {
   "cell_type": "markdown",
   "metadata": {},
   "source": [
    "## OpenCV中的绘图函数"
   ]
  },
  {
   "cell_type": "markdown",
   "metadata": {},
   "source": [
    "### 画线"
   ]
  },
  {
   "cell_type": "code",
   "execution_count": null,
   "metadata": {},
   "outputs": [],
   "source": [
    "#Create a black image\n",
    "img = np.zeros((512,512,3),np.uint8)\n",
    "\n",
    "#draw a diagonal blue line with thickness of 5 px\n",
    "cv2.line(img,(0,0),(260,260),(255,0,0),5)\n",
    "\n",
    "plt.imshow(img)\n",
    "plt.xticks([]),plt.yticks([])  #to hide tick values on X and Y axis\n",
    "plt.show()"
   ]
  },
  {
   "cell_type": "markdown",
   "metadata": {},
   "source": [
    "### 画矩形"
   ]
  },
  {
   "cell_type": "code",
   "execution_count": null,
   "metadata": {},
   "outputs": [],
   "source": [
    "#Create a black image\n",
    "img = np.zeros((512,512,3),np.uint8)\n",
    "\n",
    "cv2.rectangle(img,(350,0),(500,128),(0,255,0),3)\n",
    "\n",
    "plt.imshow(img)\n",
    "plt.xticks([]),plt.yticks([])  #to hide tick values on X and Y axis\n",
    "plt.show()"
   ]
  },
  {
   "cell_type": "markdown",
   "metadata": {},
   "source": [
    "### 画圆"
   ]
  },
  {
   "cell_type": "code",
   "execution_count": null,
   "metadata": {},
   "outputs": [],
   "source": [
    "#Create a black image\n",
    "img = np.zeros((512,512,3),np.uint8)\n",
    "\n",
    "cv2.rectangle(img,(350,0),(500,128),(0,255,0),3)#矩形\n",
    "cv2.circle(img,(425,63),63,(0,0,255),-1)#圆，-1为向内填充\n",
    "\n",
    "plt.imshow(img)\n",
    "plt.xticks([]),plt.yticks([])  #to hide tick values on X and Y axis\n",
    "plt.show()"
   ]
  },
  {
   "cell_type": "markdown",
   "metadata": {},
   "source": [
    "### 画椭圆"
   ]
  },
  {
   "cell_type": "code",
   "execution_count": null,
   "metadata": {},
   "outputs": [],
   "source": [
    "#Create a black image\n",
    "img = np.zeros((512,512,3),np.uint8)\n",
    "\n",
    "cv2.ellipse(img,(256,256),(100,50),0,0,360,255,-1)\n",
    "\n",
    "plt.imshow(img)\n",
    "plt.xticks([]),plt.yticks([])  #to hide tick values on X and Y axis\n",
    "plt.show()"
   ]
  },
  {
   "cell_type": "markdown",
   "metadata": {},
   "source": [
    "### 画多边形"
   ]
  },
  {
   "cell_type": "code",
   "execution_count": null,
   "metadata": {},
   "outputs": [],
   "source": [
    "#Create a black image\n",
    "img = np.zeros((512,512,3),np.uint8)\n",
    "\n",
    "pts=np.array([[10,5],[20,30],[70,20],[50,10]],np.int32)\n",
    "pts = pts.reshape((-1,1,2))\n",
    "#这里reshape的第一个参数为-1，表明这一维度的长度是根据后面的维度计算出来的\n",
    "cv2.polylines(img,[pts],True,(0,255,255)) \n",
    "#注意第三个参数若是False，我们得到的是不闭合的线\n",
    "\n",
    "plt.imshow(img)\n",
    "plt.xticks([]),plt.yticks([])  #to hide tick values on X and Y axis\n",
    "plt.show()"
   ]
  },
  {
   "cell_type": "markdown",
   "metadata": {},
   "source": [
    "### 在图片上添加文字"
   ]
  },
  {
   "cell_type": "code",
   "execution_count": null,
   "metadata": {},
   "outputs": [],
   "source": [
    "#Create a black image\n",
    "img = np.zeros((512,512,3),np.uint8)\n",
    "\n",
    "font = cv2.FONT_HERSHEY_SIMPLEX  \n",
    "cv2.putText(img,'OpenCV',(10,500), font, 4,(255,255,255),2,cv2.LINE_AA) \n",
    "\n",
    "plt.imshow(img)\n",
    "plt.xticks([]),plt.yticks([])  #to hide tick values on X and Y axis\n",
    "plt.show()"
   ]
  },
  {
   "cell_type": "markdown",
   "metadata": {},
   "source": [
    "## OpenCV处理鼠标事件"
   ]
  },
  {
   "cell_type": "markdown",
   "metadata": {},
   "source": [
    "### #查看所有被支持的鼠标事件"
   ]
  },
  {
   "cell_type": "code",
   "execution_count": null,
   "metadata": {},
   "outputs": [],
   "source": [
    "events = [i for i in dir(cv2) if 'EVENT' in i]\n",
    "print (events)"
   ]
  },
  {
   "cell_type": "markdown",
   "metadata": {},
   "source": [
    "## OpenCV图像的基本操作"
   ]
  },
  {
   "cell_type": "markdown",
   "metadata": {},
   "source": [
    "### 获取并修改像素值"
   ]
  },
  {
   "cell_type": "code",
   "execution_count": null,
   "metadata": {},
   "outputs": [],
   "source": [
    "img = cv2.imread('test_images/football.jpg')\n",
    "px=img[0,0]\n",
    "img[0,0] = [1,2,3]\n",
    "img.item(0,0,0)\n",
    "# img"
   ]
  },
  {
   "cell_type": "markdown",
   "metadata": {},
   "source": [
    "### 获取图像属性"
   ]
  },
  {
   "cell_type": "code",
   "execution_count": null,
   "metadata": {},
   "outputs": [],
   "source": [
    "img.shape # img.shape可以获得图像的形状，返回值是一个包含行数，列数，通道数的元组\n",
    "img.size # img.size可以返回图像的像素数目\n",
    "img.dtype # img.dtype返回图像的数据类型，在debug时很重要，因为OpenCV-Python代码中经常出现数据类型的不一致"
   ]
  },
  {
   "cell_type": "markdown",
   "metadata": {},
   "source": [
    "### 图像ROI"
   ]
  },
  {
   "cell_type": "code",
   "execution_count": null,
   "metadata": {},
   "outputs": [],
   "source": [
    "ball =img[20:30,30:30]\n",
    "ball\n",
    "# img[40:40,50:50]=ball"
   ]
  },
  {
   "cell_type": "markdown",
   "metadata": {},
   "source": [
    "### 拆分及合并图像通道"
   ]
  },
  {
   "cell_type": "code",
   "execution_count": null,
   "metadata": {},
   "outputs": [],
   "source": [
    "r,g,b=cv2.split(img)#拆分\n",
    "# r\n",
    "# img[:,:,2]=0 # 假如想使所有红色通道值都为0\n",
    "# b=img[:,:,0]#拆分b通道\n",
    "# img=cv2.merge(r,g,b)#合并"
   ]
  },
  {
   "cell_type": "markdown",
   "metadata": {},
   "source": [
    "### 为图像扩边（填充）"
   ]
  },
  {
   "cell_type": "code",
   "execution_count": null,
   "metadata": {},
   "outputs": [],
   "source": [
    "blue = [255,0,0]\n",
    "\n",
    "replicate = cv2.copyMakeBorder(img,10,10,10,10,cv2.BORDER_REPLICATE)\n",
    "reflect = cv2.copyMakeBorder(img,10,10,10,10,cv2.BORDER_REFLECT)\n",
    "reflect101 = cv2.copyMakeBorder(img,10,10,10,10,cv2.BORDER_REFLECT101)\n",
    "wrap = cv2.copyMakeBorder(img,10,10,10,10,cv2.BORDER_WRAP)\n",
    "constant = cv2.copyMakeBorder(img,10,10,10,10,cv2.BORDER_CONSTANT,value=blue)\n",
    "\n",
    "plt.subplot(231),plt.imshow(img,'gray'),plt.title('original')\n",
    "plt.subplot(232),plt.imshow(replicate,'gray'),plt.title('replicate')\n",
    "plt.subplot(233),plt.imshow(reflect,'gray'),plt.title('reflect')\n",
    "plt.subplot(234),plt.imshow(reflect101,'gray'),plt.title('reflect101')\n",
    "plt.subplot(235),plt.imshow(wrap,'gray'),plt.title('wrap')\n",
    "plt.subplot(236),plt.imshow(constant,'gray'),plt.title('constant')\n",
    "\n",
    "plt.show()"
   ]
  },
  {
   "cell_type": "markdown",
   "metadata": {},
   "source": [
    "## 转换颜色空间"
   ]
  },
  {
   "cell_type": "markdown",
   "metadata": {},
   "source": [
    "### 得到所有可用的 ﬂag"
   ]
  },
  {
   "cell_type": "code",
   "execution_count": null,
   "metadata": {},
   "outputs": [],
   "source": [
    "flags = [i for i in dir(cv2) if i.startswith(\"COLOR_\") ] \n",
    "flags"
   ]
  },
  {
   "cell_type": "markdown",
   "metadata": {},
   "source": [
    "### 物体跟踪\n",
    "现在我们知怎样将一幅图像从 BGR 换到 HSV 了，我们可以利用 一点来提取带有某个特定色的物体。在 HSV 颜色空间中要比在 BGR 空间中更容易表示一个特定颜色。在我们的程序中，我们提取的是一个蓝色的物体。下就是就是我们做的几步：\n",
    "• 从视频中获取每一帧图像\n",
    "• 将图像换到 HSV 空间\n",
    "• 设置 HSV 阀值到蓝色范围。\n",
    "• 获取蓝色物体，当然我们可以做其他任何我们想做的事，比如：在蓝色物体周围画一个圈。"
   ]
  },
  {
   "cell_type": "code",
   "execution_count": null,
   "metadata": {},
   "outputs": [],
   "source": [
    "cap = cv2.VideoCapture(0)\n",
    "\n",
    "while(1):\n",
    "    #获取每一帧\n",
    "    ret,frame = cap.read()\n",
    "    #转换到HSV\n",
    "    hsv = cv2.cvtColor(frame,cv2.COLOR_BGR2HSV)\n",
    "    #设定蓝色的阀值\n",
    "    lower_blue = np.array([110,50,50])\n",
    "    upper_blue = np.array([130,255,255])\n",
    "    #根据阀值构建掩模\n",
    "    mask = cv2.inRange(hsv,lower_blue,upper_blue)\n",
    "    #对原图和掩模进行位运算\n",
    "    res = cv2.bitwise_and(frame,frame,mask=mask)\n",
    "    #显示图像\n",
    "    cv2.imshow('frame',frame)\n",
    "    cv2.imshow('mask',mask)\n",
    "    cv2.imshow('res',res)\n",
    "    k = cv2.waitKey(5)&0xFF\n",
    "    if k == 27:\n",
    "        break\n",
    "#关闭窗口\n",
    "cv2.destroyAllWindows()"
   ]
  },
  {
   "cell_type": "markdown",
   "metadata": {},
   "source": [
    "## 图像阀值"
   ]
  },
  {
   "cell_type": "markdown",
   "metadata": {},
   "source": [
    "### 自适应阀值"
   ]
  },
  {
   "cell_type": "code",
   "execution_count": null,
   "metadata": {},
   "outputs": [],
   "source": [
    "ret , thresh1 = cv2.threshold(img,127,255,cv2.THRESH_BINARY)\n",
    "ret , thresh2 = cv2.threshold(img,127,255,cv2.THRESH_BINARY_INV)\n",
    "ret , thresh3 = cv2.threshold(img,127,255,cv2.THRESH_TRUNC)\n",
    "ret , thresh4 = cv2.threshold(img,127,255,cv2.THRESH_TOZERO)\n",
    "ret , thresh5 = cv2.threshold(img,127,255,cv2.THRESH_TOZERO_INV)\n",
    "\n",
    "titles = ['original image','Binary','binary-inv','trunc','tozero','tozero-inv']\n",
    "images = [img,thresh1,thresh2,thresh3,thresh4,thresh5]\n",
    "\n",
    "for i in range(6):\n",
    "    plt.subplot(2,3,i+1),plt.imshow(images[i],'gray')\n",
    "    plt.title(titles[i])\n",
    "    plt.xticks([]),plt.yticks([])\n",
    "\n",
    "plt.show()"
   ]
  },
  {
   "cell_type": "markdown",
   "metadata": {},
   "source": [
    "### Otsu's二值化"
   ]
  },
  {
   "cell_type": "code",
   "execution_count": null,
   "metadata": {},
   "outputs": [],
   "source": [
    "img = cv2.imread('test_images/football.jpg', cv2.IMREAD_GRAYSCALE)\n",
    "ret1,th1=cv2.threshold(img,127,255,cv2.THRESH_BINARY)\n",
    "\n",
    "ret2,th2=cv2.threshold(img,0,255,cv2.THRESH_BINARY+cv2.THRESH_OTSU)\n",
    "#(5,5)为高斯核的大小，0为标准差\n",
    "blur= cv2.GaussianBlur(img,(5,5),0)\n",
    "\n",
    "#阀值一定要设为0\n",
    "ret3,th3=cv2.threshold(blur,0,255,cv2.THRESH_BINARY+cv2.THRESH_OTSU)\n",
    "\n",
    "images=[img,0,th1,\n",
    "         img,0,th2,\n",
    "         img,0,th3]\n",
    "titles =['original noisy image','histogram','global thresholding(v=127)',\n",
    "          'original noisy image','histogram',\"otsu's thresholding\",\n",
    "          'gaussian giltered image','histogram',\"otus's thresholding\"]\n",
    "#这里使用了pyplot中画直方图的方法，plt.hist要注意的是他的参数是一维数组\n",
    "#所以这里使用了（numpy）ravel方法，将多维数组转换成一维，也可以使用flatten方法\n",
    "for i in range(3):\n",
    "    plt.subplot(3,3,i*3+1),plt.imshow(images[i*3],'gray')\n",
    "    plt.title(titles[i*3]),plt.xticks([]),plt.yticks([])\n",
    "    plt.subplot(3,3,i*3+2),plt.hist(images[i*3].ravel(),256)\n",
    "    plt.title(titles[i*3+1]),plt.xticks([]),plt.yticks([])\n",
    "    plt.subplot(3,3,i*3+3),plt.imshow(images[i*3+2],'gray')\n",
    "    plt.title(titles[i*3+2]),plt.xticks([]),plt.yticks([])\n",
    "    \n",
    "plt.show()"
   ]
  },
  {
   "cell_type": "markdown",
   "metadata": {},
   "source": [
    "## 图像平滑"
   ]
  },
  {
   "cell_type": "markdown",
   "metadata": {},
   "source": [
    "### 2D卷积"
   ]
  },
  {
   "cell_type": "code",
   "execution_count": null,
   "metadata": {},
   "outputs": [],
   "source": [
    "kernel = np.ones((5,5),np.float32)/25\n",
    "\n",
    "#cv.Filter2D(src, dst, kernel, anchor=(-1, -1))\n",
    "#ddepth –desired depth of the destination image;\n",
    "#if it is negative, it will be the same as src.depth();\n",
    "#the following combinations of src.depth() and ddepth are supported:\n",
    "#src.depth() = CV_8U, ddepth = -1/CV_16S/CV_32F/CV_64F\n",
    "#src.depth() = CV_16U/CV_16S, ddepth = -1/CV_32F/CV_64F\n",
    "#src.depth() = CV_32F, ddepth = -1/CV_32F/CV_64F\n",
    "#src.depth() = CV_64F, ddepth = -1/CV_64F\n",
    "#when ddepth=-1, the output image will have the same depth as the source.\n",
    "\n",
    "dst = cv2.filter2D(img,-1,kernel)\n",
    "\n",
    "plt.subplot(121),plt.imshow(img),plt.title('original')\n",
    "plt.xticks([]),plt.yticks([])\n",
    "plt.subplot(122),plt.imshow(dst),plt.title('averaging')\n",
    "plt.xticks([]),plt.yticks([])\n",
    "plt.show()"
   ]
  },
  {
   "cell_type": "markdown",
   "metadata": {},
   "source": [
    "### 平均"
   ]
  },
  {
   "cell_type": "code",
   "execution_count": null,
   "metadata": {},
   "outputs": [],
   "source": [
    "# blur = cv2.blur(img,(5,5))\n",
    "\n",
    "# while(1):\n",
    "#     cv2.imshow('image',img)\n",
    "#     cv2.imshow('blur',blur)\n",
    "#     k=cv2.waitKey(1)\n",
    "#     if k == ord('q'):#按q键退出\n",
    "#         break\n",
    "# cv2.destroyAllWindows()"
   ]
  },
  {
   "cell_type": "markdown",
   "metadata": {},
   "source": [
    "## 形态学转换\n",
    "形态学转换原理：一般情况下对二值化图像进行操作。需要两个参数，一个是原始图像，第二个被称为结构化元素或者核，它是用来决定操作的性质的。基本操作为腐蚀和膨胀，他们的变体构成了开运算，闭运算，梯度等。"
   ]
  },
  {
   "cell_type": "markdown",
   "metadata": {},
   "source": [
    "## 图像梯度"
   ]
  },
  {
   "cell_type": "markdown",
   "metadata": {},
   "source": [
    "## Canny边缘检测"
   ]
  },
  {
   "cell_type": "markdown",
   "metadata": {},
   "source": [
    "### OpenCV中的Canny边界检测"
   ]
  },
  {
   "cell_type": "code",
   "execution_count": null,
   "metadata": {},
   "outputs": [],
   "source": [
    "edges = cv2.Canny(img,100,200)\n",
    "\n",
    "plt.subplot(121),plt.imshow(img,cmap='gray')\n",
    "plt.title('original'),plt.xticks([]),plt.yticks([])\n",
    "plt.subplot(122),plt.imshow(edges,cmap='gray')\n",
    "plt.title('edge'),plt.xticks([]),plt.yticks([])\n",
    "\n",
    "plt.show()"
   ]
  },
  {
   "cell_type": "markdown",
   "metadata": {},
   "source": [
    "## 轮廓"
   ]
  },
  {
   "cell_type": "markdown",
   "metadata": {},
   "source": [
    "### python-opencv在有噪音的情况下提取图像的轮廓实例\n",
    "[python-opencv在有噪音的情况下提取图像的轮廓实例](http://www.jb51.net/article/122475.htm)"
   ]
  },
  {
   "cell_type": "code",
   "execution_count": null,
   "metadata": {},
   "outputs": [],
   "source": [
    "img = cv2.imread(\"test_images/a.jpg\")    #载入图像\n",
    "h, w = img.shape[:2]      #获取图像的高和宽 \n",
    "# cv2.imshow(\"Origin\", img)     #显示原始图像\n",
    "blured = cv2.blur(img,(5,5))    #进行滤波去掉噪声\n",
    "# cv2.imshow(\"Blur\", blured)     #显示低通滤波后的图像\n",
    "mask = np.zeros((h+2, w+2), np.uint8)  #掩码长和宽都比输入图像多两个像素点，满水填充不会超出掩码的非零边缘 \n",
    "#进行泛洪填充\n",
    "cv2.floodFill(blured, mask, (w-1,h-1), (255,255,255), (2,2,2),(3,3,3),8)\n",
    "# cv2.imshow(\"floodfill\", blured) \n",
    "#得到灰度图\n",
    "gray = cv2.cvtColor(blured,cv2.COLOR_BGR2GRAY) \n",
    "# cv2.imshow(\"gray\", gray) \n",
    "#定义结构元素 \n",
    "kernel = cv2.getStructuringElement(cv2.MORPH_RECT,(50, 50))\n",
    "#开闭运算，先开运算去除背景噪声，再继续闭运算填充目标内的孔洞\n",
    "opened = cv2.morphologyEx(gray, cv2.MORPH_OPEN, kernel) \n",
    "closed = cv2.morphologyEx(opened, cv2.MORPH_CLOSE, kernel) \n",
    "# cv2.imshow(\"closed\", closed) \n",
    "#求二值图\n",
    "ret, binary = cv2.threshold(closed,250,255,cv2.THRESH_BINARY) \n",
    "# cv2.imshow(\"binary\", binary) \n",
    "#找到轮廓\n",
    "_,contours, hierarchy = cv2.findContours(binary,cv2.RETR_TREE,cv2.CHAIN_APPROX_SIMPLE) \n",
    "#绘制轮廓\n",
    "cv2.drawContours(img,contours,-1,(0,0,255),3) \n",
    "#绘制结果\n",
    "# cv2.imshow(\"result\", img)\n",
    "# cv2.waitKey(0) \n",
    "# cv2.destroyAllWindows()\n",
    "plt.imshow(img)\n",
    "plt.xticks([]),plt.yticks([])  #to hide tick values on X and Y axis\n",
    "plt.show()"
   ]
  },
  {
   "cell_type": "markdown",
   "metadata": {},
   "source": [
    "# plt out img"
   ]
  },
  {
   "cell_type": "code",
   "execution_count": null,
   "metadata": {},
   "outputs": [],
   "source": [
    "plt.imshow(img)\n",
    "plt.xticks([]),plt.yticks([])  #to hide tick values on X and Y axis\n",
    "plt.show()"
   ]
  },
  {
   "cell_type": "code",
   "execution_count": null,
   "metadata": {},
   "outputs": [],
   "source": [
    "img = cv2.imread(\"test_images/a.jpg\")    #载入图像\n",
    "h, w = img.shape[:2]\n",
    "blured = cv2.blur(img,(5,5))\n",
    "mask = np.zeros((h+2, w+2), np.uint8)  #掩码长和宽都比输入图像多两个像素点，满水填充不会超出掩码的非零边缘 \n",
    "#进行泛洪填充\n",
    "cv2.floodFill(blured, mask, (w-1,h-1), (255,255,255), (2,2,2),(3,3,3),8)\n",
    "gray = cv2.cvtColor(blured,cv2.COLOR_BGR2GRAY) "
   ]
  },
  {
   "cell_type": "code",
   "execution_count": null,
   "metadata": {},
   "outputs": [],
   "source": []
  }
 ],
 "metadata": {
  "celltoolbar": "Raw Cell Format",
  "kernelspec": {
   "display_name": "Python 3",
   "language": "python",
   "name": "python3"
  },
  "language_info": {
   "codemirror_mode": {
    "name": "ipython",
    "version": 3
   },
   "file_extension": ".py",
   "mimetype": "text/x-python",
   "name": "python",
   "nbconvert_exporter": "python",
   "pygments_lexer": "ipython3",
   "version": "3.6.4"
  }
 },
 "nbformat": 4,
 "nbformat_minor": 2
}
